{
 "cells": [
  {
   "cell_type": "code",
   "execution_count": 315,
   "id": "eaab9f39",
   "metadata": {},
   "outputs": [],
   "source": [
    "#Bibliotecas\n",
    "import copy #Allows us to create copies of objects in memory\n",
    "import math #Math functionality\n",
    "import numpy as np #Numpy for working with arrays\n",
    "import matplotlib.pyplot as plt #Plotting functionality "
   ]
  },
  {
   "cell_type": "markdown",
   "id": "16f29966",
   "metadata": {},
   "source": [
    "## Dados da Estrutura"
   ]
  },
  {
   "cell_type": "code",
   "execution_count": 316,
   "id": "f66d49ed",
   "metadata": {},
   "outputs": [
    {
     "name": "stdout",
     "output_type": "stream",
     "text": [
      "[[      0.]\n",
      " [-200000.]\n",
      " [      0.]\n",
      " [      0.]\n",
      " [      0.]\n",
      " [      0.]\n",
      " [      0.]\n",
      " [      0.]\n",
      " [      0.]\n",
      " [      0.]\n",
      " [      0.]\n",
      " [      0.]\n",
      " [      0.]\n",
      " [      0.]\n",
      " [      0.]\n",
      " [      0.]\n",
      " [      0.]\n",
      " [      0.]\n",
      " [      0.]\n",
      " [      0.]\n",
      " [      0.]\n",
      " [      0.]\n",
      " [      0.]\n",
      " [      0.]\n",
      " [      0.]\n",
      " [      0.]\n",
      " [      0.]\n",
      " [      0.]\n",
      " [      0.]\n",
      " [      0.]\n",
      " [      0.]\n",
      " [      0.]\n",
      " [      0.]\n",
      " [-440000.]\n",
      " [      0.]\n",
      " [      0.]\n",
      " [      0.]\n",
      " [      0.]\n",
      " [      0.]\n",
      " [      0.]\n",
      " [      0.]\n",
      " [      0.]\n",
      " [      0.]\n",
      " [      0.]\n",
      " [      0.]\n",
      " [      0.]\n",
      " [      0.]\n",
      " [      0.]\n",
      " [      0.]\n",
      " [      0.]\n",
      " [      0.]\n",
      " [      0.]\n",
      " [      0.]\n",
      " [      0.]\n",
      " [      0.]\n",
      " [      0.]\n",
      " [      0.]\n",
      " [      0.]\n",
      " [      0.]\n",
      " [      0.]\n",
      " [      0.]\n",
      " [      0.]\n",
      " [      0.]\n",
      " [      0.]\n",
      " [      0.]\n",
      " [      0.]\n",
      " [      0.]\n",
      " [      0.]\n",
      " [      0.]\n",
      " [      0.]]\n"
     ]
    }
   ],
   "source": [
    "#Constantes\n",
    "\n",
    "E = 200*10**9 #módulo de elasticidade (N/m²)\n",
    "A = 0.005 #(m²)\n",
    "xFac = 100 #Fator de escala para plotar\n",
    "\n",
    "#Coordenada dos nós [x,y] em ordem crescente A, B, C, .... AA, AB\n",
    "nodes = np.array([[0,0], ##1\n",
    "                 [1,1], \n",
    "                 [1,0],\n",
    "                 [2,1],\n",
    "                 [2,0], ##5\n",
    "                 [3,1],\n",
    "                 [3,0],\n",
    "                 [4,1],\n",
    "                 [4,0],\n",
    "                 [5,1], ##10\n",
    "                 [5,0], \n",
    "                 [6,1],\n",
    "                 [6,0],\n",
    "                 [7,1],\n",
    "                 [7,0], ##15\n",
    "                 [8,1], \n",
    "                 [8,0],\n",
    "                 [5,2],\n",
    "                 [6,2],\n",
    "                 [5,3], ##20\n",
    "                 [6,3],\n",
    "                 [5,-1],\n",
    "                 [6,-1],\n",
    "                 [5,-2],\n",
    "                 [6,-2], ##25\n",
    "                 [5,-3],\n",
    "                 [6,-3],\n",
    "                 [5,-4],\n",
    "                 [6,-4],\n",
    "                 [5,-5], ##30\n",
    "                 [6,-5],\n",
    "                 [5,-6],\n",
    "                 [6,-6],\n",
    "                 [5,-7],\n",
    "                 [6,-7]])\n",
    "\n",
    "#Barras [no_i, no_j]\n",
    "members = np.array([[1,2], #A\n",
    "                   [2,3],\n",
    "                   [3,1],\n",
    "                   [2,4],\n",
    "                   [3,4],\n",
    "                   [4,5],\n",
    "                   [3,5],\n",
    "                   [4,6],\n",
    "                   [5,6],\n",
    "                   [6,7],\n",
    "                   [5,7],\n",
    "                   [6,8],\n",
    "                   [7,8],\n",
    "                   [8,9],\n",
    "                   [7,9],\n",
    "                   [8,10],\n",
    "                   [9,10],\n",
    "                   [10,11],\n",
    "                   [9,11], #s\n",
    "                   [10,12],\n",
    "                   [11,12],\n",
    "                   [12,13],\n",
    "                   [11,13],\n",
    "                   [12,14],\n",
    "                   [13,14],\n",
    "                   [14,15],\n",
    "                   [13,15],\n",
    "                   [14,16],\n",
    "                   [15,16],\n",
    "                   [16,17],\n",
    "                   [15,17], ##AE\n",
    "                   [10,18],\n",
    "                   [18,19],\n",
    "                   [10,19],\n",
    "                   [12,19], ##AI\n",
    "                   [18,20],\n",
    "                   [20,21], ##AK\n",
    "                   [18,21],\n",
    "                   [19,21],\n",
    "                   [2,20],\n",
    "                   [16,21], ##AO\n",
    "                   [11,22],\n",
    "                   [13,22],\n",
    "                   [13,23],\n",
    "                   [22,23], ##AS\n",
    "                   [22,24],\n",
    "                   [23,24],\n",
    "                   [23,25],\n",
    "                   [24,25], #AAX\n",
    "                   [24,26],\n",
    "                   [25,26],\n",
    "                   [25,27],\n",
    "                   [26,27], #AAA\n",
    "                   [26,28],\n",
    "                   [27,28],\n",
    "                   [27,29],\n",
    "                   [28,29], #AAE\n",
    "                   [28,30],\n",
    "                   [29,30],\n",
    "                   [29,31],\n",
    "                   [30,31], #AAI\n",
    "                   [30,32],\n",
    "                   [31,32],\n",
    "                   [31,33],\n",
    "                   [32,33],\n",
    "                   [32,34],\n",
    "                   [33,34],\n",
    "                   [33,35]])\n",
    "\n",
    "#Suportes\n",
    "restrainedDoF = [63,64,65,66] #Graus de liberdade restringido pelos suportes\n",
    "\n",
    "#Carregamentos\n",
    "DoF = np.zeros(2*len(nodes))\n",
    "forceVector = np.array([DoF])\n",
    "forceVector[0][2*17-1] = (5.5/2.5)*-200000\n",
    "forceVector[0][2*1-1]  = -200000\n",
    "forceVector = forceVector.T \n",
    "\n",
    "print(forceVector)\n",
    "#============================================================#"
   ]
  },
  {
   "cell_type": "code",
   "execution_count": 317,
   "id": "9bd970dc",
   "metadata": {},
   "outputs": [
    {
     "data": {
      "image/png": "[encoded data removed]",
      "text/plain": [
       "<Figure size 432x288 with 1 Axes>"
      ]
     },
     "metadata": {
      "needs_background": "light"
     },
     "output_type": "display_data"
    }
   ],
   "source": [
    "fig = plt.figure()\n",
    "axes = fig.add_axes([0.1,0.1,2,2])\n",
    "fig.gca().set_aspect('equal', adjustable = 'box')\n",
    "\n",
    "#plotando cada membro\n",
    "\n",
    "for mbr in members:\n",
    "    node_i = mbr[0]\n",
    "    node_j = mbr[1]\n",
    "    \n",
    "    ix = nodes[node_i-1,0]\n",
    "    iy = nodes[node_i-1,1]\n",
    "    jx = nodes[node_j-1,0]\n",
    "    jy = nodes[node_j-1,1]\n",
    "    \n",
    "    #indice do DOF de cada membro\n",
    "    ia = 2*node_i-2\n",
    "    ib = 2*node_i-1\n",
    "    ja = 2*node_j-2\n",
    "    jb = 2*node_j-1\n",
    "    \n",
    "    \n",
    "    axes.plot([ix,jx],[iy,jy],'b')\n",
    "\n",
    "    \n",
    "\n",
    "#plotar os nos\n",
    "for node in nodes:\n",
    "    axes.plot([node[0]],[node[1]],'bo')\n",
    "    \n",
    "axes.set_xlabel('Distance (m)')\n",
    "axes.set_ylabel('Distance (m)')\n",
    "axes.set_title('Structure to analyse')\n",
    "axes.grid()\n",
    "plt.show()"
   ]
  },
  {
   "cell_type": "markdown",
   "id": "fbd14181",
   "metadata": {},
   "source": [
    "### Calcula o comprimento e orientação de cada membro da estrutura"
   ]
  },
  {
   "cell_type": "code",
   "execution_count": 318,
   "id": "149db39b",
   "metadata": {},
   "outputs": [],
   "source": [
    "#Defini uma função que calcula a posição e orientação dos membrs da estrutura\n",
    "\n",
    "def memberOrientation(memberNo):\n",
    "    memberIndex = memberNo-1 #indice que identifica cada membro\n",
    "    node_i = members[memberIndex][0]\n",
    "    node_j = members[memberIndex][1]\n",
    "    \n",
    "    xi = nodes[node_i-1][0] #coordenada x do no_i\n",
    "    yi = nodes[node_i-1][1] #coordenada y do no_i\n",
    "    xj = nodes[node_j-1][0] #coordenada x do no_j\n",
    "    yj = nodes[node_j-1][1] #coordenada y do no_j\n",
    "    \n",
    "    #Angulo de cada membro com relação ao eixo horizontal\n",
    "    \n",
    "    dx = xj-xi \n",
    "    dy = yj-yi\n",
    "    mag = math.sqrt(dx**2+dy**2)\n",
    "    memberVector = np.array([dx,dy])\n",
    "    \n",
    "    #Identifica o quadrante e aplica o offset adequado\n",
    "    \n",
    "    if(dx>0 and dy==0):\n",
    "        theta = 0\n",
    "    elif(dx==0 and dy>0):\n",
    "        theta = math.pi/2\n",
    "    elif(dx<0 and dy==0):\n",
    "        theta = math.pi\n",
    "    elif(dx==0 and dy<0):\n",
    "        theta = 3*math.pi/2\n",
    "    elif(dx>0 and dy>0):\n",
    "        #0<theta<90\n",
    "        refVector = np.array([1,0]) #Vetor indicando O eixo x +\n",
    "        theta = math.acos(refVector.dot(memberVector)/mag) #Calcula o angulo entre os vetores\n",
    "    elif(dx<0 and dy>0):\n",
    "         #90<theta<190\n",
    "        refVector = np.array([0,1]) \n",
    "        theta = math.acos(refVector.dot(memberVector)/mag) + math.pi/2\n",
    "    elif(dx<0 and dy<0):\n",
    "         #180<theta<270\n",
    "        refVector = np.array([-1,0]) \n",
    "        theta = math.acos(refVector.dot(memberVector)/mag) + math.pi\n",
    "    else:\n",
    "         #270<theta<360\n",
    "        refVector = np.array([0,-1]) \n",
    "        theta = math.acos(refVector.dot(memberVector)/mag) + math.pi/2\n",
    "    \n",
    "    return[theta, mag]\n",
    "        \n",
    "        "
   ]
  },
  {
   "cell_type": "code",
   "execution_count": 319,
   "id": "bb86143a",
   "metadata": {},
   "outputs": [
    {
     "name": "stdout",
     "output_type": "stream",
     "text": [
      "[ 45.         270.         180.           0.          45.\n",
      " 270.           0.           0.          45.         270.\n",
      "   0.           0.          45.         270.           0.\n",
      "   0.          45.         270.           0.           0.\n",
      "  45.         270.           0.           0.          45.\n",
      " 270.           0.           0.          45.         270.\n",
      "   0.          90.           0.          45.          90.\n",
      "  90.           0.          45.          90.          26.56505118\n",
      " 135.         270.         225.         270.           0.\n",
      " 270.         225.         270.           0.         270.\n",
      " 225.         270.           0.         270.         225.\n",
      " 270.           0.         270.         225.         270.\n",
      "   0.         270.         225.         270.           0.\n",
      " 270.         225.         270.        ]\n"
     ]
    }
   ],
   "source": [
    "# Calcula a orientação e comprimento de cada membro\n",
    "orientations = np.array([])\n",
    "lengths = np.array([])\n",
    "\n",
    "for n, mbr in enumerate(members):\n",
    "    [angle, length] = memberOrientation(n+1)\n",
    "    orientations = np.append(orientations,angle)\n",
    "    lengths = np.append(lengths, length)\n",
    "    \n",
    "print(np.rad2deg(orientations)) #imprimi a orientação de cada membro em angulo"
   ]
  },
  {
   "cell_type": "markdown",
   "id": "b5133a11",
   "metadata": {},
   "source": [
    "## Calcula a matrix de rigidez global"
   ]
  },
  {
   "cell_type": "code",
   "execution_count": 320,
   "id": "74d85697",
   "metadata": {},
   "outputs": [],
   "source": [
    "#Função para calculo da matrix de rigidez global e carga axial\n",
    "def calculateKg(memberNo):\n",
    "\n",
    "    theta = orientations[memberNo-1]\n",
    "    mag = lengths[memberNo-1]\n",
    "        \n",
    "    c = math.cos(theta)\n",
    "    s = math.sin(theta)\n",
    "    \n",
    "    #elementos da matrix de rigidez\n",
    "    K11 = (E*A/mag)*np.array([[c**2,c*s],[c*s,s**2]]) \n",
    "    K12 = (E*A/mag)*np.array([[-c**2,-c*s],[-c*s,-s**2]])  \n",
    "    K21 = (E*A/mag)*np.array([[-c**2,-c*s],[-c*s,-s**2]])   \n",
    "    K22 = (E*A/mag)*np.array([[c**2,c*s],[c*s,s**2]]) \n",
    "    \n",
    "    return [K11, K12, K21,K22]"
   ]
  },
  {
   "cell_type": "markdown",
   "id": "7c297cbb",
   "metadata": {},
   "source": [
    "Matrix de rigidez Kp"
   ]
  },
  {
   "cell_type": "code",
   "execution_count": 321,
   "id": "b87b3346",
   "metadata": {},
   "outputs": [],
   "source": [
    "nDoF = np.amax(members)*2 ##Define o numero de graus de liberdade da estrutura\n",
    "Kp = np.zeros([nDoF,nDoF])\n",
    "\n",
    "for n, mbr in enumerate(members):\n",
    "    [K11,K12,K21,K22] = calculateKg(n+1)\n",
    "    \n",
    "    node_i = mbr[0]\n",
    "    node_j = mbr[1]\n",
    "    \n",
    "    ia = 2*node_i-2\n",
    "    ib = 2*node_i-1\n",
    "    ja = 2*node_j-2\n",
    "    jb = 2*node_j-1\n",
    "    \n",
    "    Kp[ia:ib+1,ia:ib+1] = Kp[ia:ib+1,ia:ib+1] + K11\n",
    "    Kp[ia:ib+1,ja:jb+1] = Kp[ia:ib+1,ja:jb+1] + K12\n",
    "    Kp[ja:jb+1,ia:ib+1] = Kp[ja:jb+1,ia:ib+1] + K21\n",
    "    Kp[ja:jb+1,ja:jb+1] = Kp[ja:jb+1,ja:jb+1] + K22\n",
    "    \n",
    "    "
   ]
  },
  {
   "cell_type": "markdown",
   "id": "9fb18b3d",
   "metadata": {},
   "source": [
    "Matrix de rigidez reduzida"
   ]
  },
  {
   "cell_type": "code",
   "execution_count": 322,
   "id": "a159e312",
   "metadata": {},
   "outputs": [
    {
     "name": "stdout",
     "output_type": "stream",
     "text": [
      "[[ 1.35355339e+09  3.53553391e+08 -3.53553391e+08 ...  0.00000000e+00\n",
      "   0.00000000e+00  0.00000000e+00]\n",
      " [ 3.53553391e+08  3.53553391e+08 -3.53553391e+08 ...  0.00000000e+00\n",
      "   0.00000000e+00  0.00000000e+00]\n",
      " [-3.53553391e+08 -3.53553391e+08  1.53243883e+09 ...  0.00000000e+00\n",
      "   0.00000000e+00  0.00000000e+00]\n",
      " ...\n",
      " [ 0.00000000e+00  0.00000000e+00  0.00000000e+00 ...  1.35355339e+09\n",
      "   0.00000000e+00  0.00000000e+00]\n",
      " [ 0.00000000e+00  0.00000000e+00  0.00000000e+00 ...  0.00000000e+00\n",
      "   3.37445951e-23  1.83697020e-07]\n",
      " [ 0.00000000e+00  0.00000000e+00  0.00000000e+00 ...  0.00000000e+00\n",
      "   1.83697020e-07  1.00000000e+09]]\n"
     ]
    }
   ],
   "source": [
    "restrainedIndex = [x - 1 for x in restrainedDoF] #Index for each restrained DoF (list comprehension)\n",
    "\n",
    "#Reduce to structure stiffness matrix by deleting rows and columns for restrained DoF\n",
    "Ks = np.delete(Kp,restrainedIndex,0) #Delete rows\n",
    "Ks = np.delete(Ks,restrainedIndex,1) #Delete columns\n",
    "Ks = np.matrix(Ks) # Convert Ks from numpy.ndarray to numpy.matrix to use build in inverter function\n",
    "\n",
    "print(Ks)"
   ]
  },
  {
   "cell_type": "markdown",
   "id": "352c59a1",
   "metadata": {},
   "source": [
    "## Calcular os deslocamentos"
   ]
  },
  {
   "cell_type": "code",
   "execution_count": 323,
   "id": "417f7c26",
   "metadata": {},
   "outputs": [],
   "source": [
    "forceVectorRed = copy.copy(forceVector) #Cria uma cópia do vetor de forças\n",
    "forceVectorRed = np.delete(forceVectorRed, restrainedIndex,0)\n",
    "U = Ks.I*forceVectorRed"
   ]
  },
  {
   "cell_type": "markdown",
   "id": "32156457",
   "metadata": {},
   "source": [
    "## Calcular as reações de apoio"
   ]
  },
  {
   "cell_type": "code",
   "execution_count": 324,
   "id": "76185a3d",
   "metadata": {},
   "outputs": [],
   "source": [
    "UG = np.zeros(nDoF)\n",
    "\n",
    "c=0\n",
    "for i in np.arange(nDoF):\n",
    "    if i in restrainedIndex:\n",
    "        UG[i] = 0\n",
    "    else:\n",
    "        UG[i] = U[c]\n",
    "        c=c+1\n",
    "        \n",
    "UG = np.array([UG]).T\n",
    "FG = np.matmul(Kp,UG)\n"
   ]
  },
  {
   "cell_type": "markdown",
   "id": "ec43bae4",
   "metadata": {},
   "source": [
    "## Calcuar as forças atuando em cada barra "
   ]
  },
  {
   "cell_type": "code",
   "execution_count": 327,
   "id": "1ade7741",
   "metadata": {},
   "outputs": [
    {
     "name": "stdout",
     "output_type": "stream",
     "text": [
      "-236244.0\n"
     ]
    }
   ],
   "source": [
    "mbrForces = np.array([])\n",
    "\n",
    "for n,mbr in enumerate(members):\n",
    "    theta = orientations[n]\n",
    "    mag = lengths[n]\n",
    "    \n",
    "    node_i = mbr[0]\n",
    "    node_j = mbr[1]\n",
    "    \n",
    "    ia = 2*node_i-2\n",
    "    ib = 2*node_i-1\n",
    "    ja = 2*node_j-2\n",
    "    jb = 2*node_j-1\n",
    "    \n",
    "    #Matrix transformada\n",
    "    c = math.cos(theta)\n",
    "    s = math.sin(theta)\n",
    "    T = np.array([[c,s,0,0],[0,0,c,s]])\n",
    "    \n",
    "    disp = np.array([[UG[ia], UG[ib], UG[ja], UG[jb] ]]).T\n",
    "    disp_local = np.matmul(T,disp)[0]\n",
    "    F_axial = (A*E/mag)*(disp_local[1]-disp_local[0])\n",
    "    \n",
    "    mbrForces = np.append(mbrForces,F_axial)\n",
    "    \n",
    "print(np.round(mbrForces[38]))"
   ]
  },
  {
   "cell_type": "markdown",
   "id": "866a92b7",
   "metadata": {},
   "source": [
    "# Plotando"
   ]
  },
  {
   "cell_type": "code",
   "execution_count": 326,
   "id": "09568d05",
   "metadata": {},
   "outputs": [
    {
     "data": {
      "image/png": "[encoded data removed]",
      "text/plain": [
       "<Figure size 432x288 with 1 Axes>"
      ]
     },
     "metadata": {
      "needs_background": "light"
     },
     "output_type": "display_data"
    }
   ],
   "source": [
    "fig = plt.figure()\n",
    "axes = fig.add_axes([0.1,0.1,2,2])\n",
    "fig.gca().set_aspect('equal', adjustable = 'box')\n",
    "\n",
    "#plotando cada membro\n",
    "\n",
    "for mbr in members:\n",
    "    node_i = mbr[0]\n",
    "    node_j = mbr[1]\n",
    "    \n",
    "    ix = nodes[node_i-1,0]\n",
    "    iy = nodes[node_i-1,1]\n",
    "    jx = nodes[node_j-1,0]\n",
    "    jy = nodes[node_j-1,1]\n",
    "    \n",
    "    #indice do DOF de cada membro\n",
    "    ia = 2*node_i-2\n",
    "    ib = 2*node_i-1\n",
    "    ja = 2*node_j-2\n",
    "    jb = 2*node_j-1\n",
    "    \n",
    "    \n",
    "    axes.plot([ix,jx],[iy,jy],'b')\n",
    "    axes.plot([ix + UG[ia,0]*xFac, jx + UG[ja,0]*xFac],[iy + UG[ib,0]*xFac, jy + UG[jb,0]*xFac],'--r')\n",
    "    \n",
    "\n",
    "#plotar os nos\n",
    "for node in nodes:\n",
    "    axes.plot([node[0]],[node[1]],'bo')\n",
    "    \n",
    "axes.set_xlabel('Distance (m)')\n",
    "axes.set_ylabel('Distance (m)')\n",
    "axes.set_title('Structure to analyse')\n",
    "axes.grid()\n",
    "plt.show()"
   ]
  },
  {
   "cell_type": "code",
   "execution_count": null,
   "id": "1ce54a60",
   "metadata": {},
   "outputs": [],
   "source": []
  }
 ],
 "metadata": {
  "kernelspec": {
   "display_name": "Python 3 (ipykernel)",
   "language": "python",
   "name": "python3"
  },
  "language_info": {
   "codemirror_mode": {
    "name": "ipython",
    "version": 3
   },
   "file_extension": ".py",
   "mimetype": "text/x-python",
   "name": "python",
   "nbconvert_exporter": "python",
   "pygments_lexer": "ipython3",
   "version": "3.9.12"
  }
 },
 "nbformat": 4,
 "nbformat_minor": 5
}
